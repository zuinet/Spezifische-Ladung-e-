{
 "cells": [
  {
   "cell_type": "code",
   "execution_count": 4,
   "metadata": {
    "collapsed": true
   },
   "outputs": [],
   "source": [
    "#k=get(\"Data1_1_1.txt\",\"w\")"
   ]
  },
  {
   "cell_type": "code",
   "execution_count": 5,
   "metadata": {
    "collapsed": true
   },
   "outputs": [],
   "source": [
    "#p=\"lksnflasdbvlkasbvdkjb\""
   ]
  },
  {
   "cell_type": "code",
   "execution_count": 6,
   "metadata": {
    "collapsed": true
   },
   "outputs": [],
   "source": [
    "#t=str.replace(k,\";\",\",\")\n",
    "#print(t)"
   ]
  },
  {
   "cell_type": "code",
   "execution_count": 1,
   "metadata": {},
   "outputs": [
    {
     "name": "stdout",
     "output_type": "stream",
     "text": [
      "fobj_in;\n",
      "fobj_in;\n",
      "fobj_in;\n",
      "fobj_in;\n",
      "fobj_in;\n",
      "fobj_in;\n",
      "fobj_in;\n",
      "fobj_in;\n",
      "fobj_in;\n",
      "fobj_in;\n",
      "fobj_in;\n",
      "fobj_in;\n",
      "fobj_in;\n",
      "fobj_in;\n",
      "fobj_in;\n",
      "fobj_in;\n",
      "fobj_in;\n",
      "fobj_in;\n",
      "fobj_in;\n",
      "fobj_in;\n",
      "fobj_in;\n",
      "fobj_in;\n",
      "fobj_in;\n",
      "fobj_in;\n",
      "fobj_in;\n",
      "fobj_in;\n",
      "fobj_in;\n",
      "fobj_in;\n",
      "fobj_in;\n",
      "fobj_in;\n",
      "fobj_in;\n",
      "fobj_in;\n",
      "fobj_in;\n",
      "fobj_in;\n",
      "fobj_in;\n",
      "fobj_in;\n",
      "fobj_in;\n",
      "fobj_in;\n",
      "fobj_in;\n",
      "fobj_in;\n",
      "fobj_in;\n",
      "fobj_in;\n",
      "fobj_in;\n",
      "fobj_in;\n",
      "fobj_in;\n"
     ]
    }
   ],
   "source": [
    "fobj_in = open(\"A2_Schuster1.csv\")\n",
    "fobj_out = open(\"A2_Schuster.csv\",\"w\")\n",
    "i =0\n",
    "for line in fobj_in:\n",
    "    print(\"fobj_in;\")\n",
    "    fobj_out.write(str.replace(line,\",\",\".\"))\n",
    "    i = i + 1\n",
    "fobj_in.close()\n",
    "fobj_out.close()"
   ]
  },
  {
   "cell_type": "code",
   "execution_count": null,
   "metadata": {
    "collapsed": true
   },
   "outputs": [],
   "source": []
  }
 ],
 "metadata": {
  "kernelspec": {
   "display_name": "Python 3",
   "language": "python",
   "name": "python3"
  },
  "language_info": {
   "codemirror_mode": {
    "name": "ipython",
    "version": 3
   },
   "file_extension": ".py",
   "mimetype": "text/x-python",
   "name": "python",
   "nbconvert_exporter": "python",
   "pygments_lexer": "ipython3",
   "version": "3.6.0"
  }
 },
 "nbformat": 4,
 "nbformat_minor": 2
}
